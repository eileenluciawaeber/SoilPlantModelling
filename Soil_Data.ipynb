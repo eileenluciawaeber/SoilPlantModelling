{
 "cells": [
  {
   "cell_type": "markdown",
   "metadata": {},
   "source": [
    "# Hydraulic Model"
   ]
  },
  {
   "cell_type": "code",
   "execution_count": null,
   "metadata": {},
   "outputs": [],
   "source": [
    "import numpy as np\n",
    "\n",
    "import json\n",
    "\n",
    "import matplotlib.pyplot as plt\n",
    "\n",
    "# import function from another jupyter notebook\n",
    "import sys\n",
    "sys.path.insert(1, '1_Functions')\n",
    "\n",
    "import Function_complex"
   ]
  },
  {
   "cell_type": "markdown",
   "metadata": {},
   "source": [
    "### Inputs\n",
    "For varying soil matric potentials hb and transpiration rates E we calculate the leaf water potential hleaf"
   ]
  },
  {
   "cell_type": "code",
   "execution_count": 2,
   "metadata": {},
   "outputs": [],
   "source": [
    "dx, dy, dz = 100, 100, 0.3\n",
    "\n",
    "h_b = -1*np.arange(10,15010+100,dx, dtype=int) #bulk soil water potential in cm heads\n",
    "E = 3e-6*np.arange(0,3000+1,dz) #transpiration rate in cm3 s**-1"
   ]
  },
  {
   "cell_type": "markdown",
   "metadata": {},
   "source": [
    "root-plant properties"
   ]
  },
  {
   "cell_type": "code",
   "execution_count": null,
   "metadata": {},
   "outputs": [],
   "source": [
    "R_root = 0.12e7 # hPa cm**-3 s; inverse of conductance\n",
    "r0 = 0.05 # cm root radius in cm\n",
    "V_root = np.pi*3000 # root volume in cm**3\n",
    "L = 30000. # root length in cm\n",
    "r2 = np.sqrt(V_root/(np.pi*L))"
   ]
  },
  {
   "cell_type": "markdown",
   "metadata": {},
   "source": [
    "radial rhizosphere domain"
   ]
  },
  {
   "cell_type": "code",
   "execution_count": 9,
   "metadata": {},
   "outputs": [],
   "source": [
    "r = np.arange(r0,r2+0.01,0.01).T\n",
    "dr = float((r2-r0)/(len(r)-1)) # separation steps"
   ]
  },
  {
   "cell_type": "markdown",
   "metadata": {},
   "source": [
    "parameters for cavitation; if you plot the harmonic mean of 1/Rroot and k_x you get a conductance that maximum is the one of root and if hx decreases the conductivity drops "
   ]
  },
  {
   "cell_type": "code",
   "execution_count": 10,
   "metadata": {},
   "outputs": [],
   "source": [
    "k0_x = 1/R_root # hPa-1 cm^3 s-1; conductance of roots (assumed to be uniform)\n",
    "h0_x = -25000 # in cm (or 10^-4 Mpa) approximately equal p50; water head of xylem\n",
    "tau_x = 5\n",
    "#k_x = k0_x*(h_leaf/h0_x)^-tau_x # this would be the xylem conductance; BC model for xylem"
   ]
  },
  {
   "cell_type": "code",
   "execution_count": 11,
   "metadata": {},
   "outputs": [],
   "source": [
    "# Store all plant parameters in a list\n",
    "params_plant = R_root, h0_x, tau_x, L"
   ]
  },
  {
   "cell_type": "markdown",
   "metadata": {},
   "source": [
    "### Caclucate SOL and iso lines for each soil\n",
    "Using the full SPAC function from Function_complex"
   ]
  },
  {
   "cell_type": "code",
   "execution_count": 12,
   "metadata": {},
   "outputs": [
    {
     "name": "stdout",
     "output_type": "stream",
     "text": [
      "Clay\n",
      "Clay Loam\n",
      "Loam\n"
     ]
    },
    {
     "name": "stderr",
     "output_type": "stream",
     "text": [
      "/Users/alien/opt/miniconda3/envs/soil/lib/python3.11/site-packages/numpy/lib/_function_base_impl.py:1245: RuntimeWarning: divide by zero encountered in divide\n",
      "  a = -(dx2)/(dx1 * (dx1 + dx2))\n",
      "/Users/alien/opt/miniconda3/envs/soil/lib/python3.11/site-packages/numpy/lib/_function_base_impl.py:1245: RuntimeWarning: invalid value encountered in divide\n",
      "  a = -(dx2)/(dx1 * (dx1 + dx2))\n",
      "/Users/alien/opt/miniconda3/envs/soil/lib/python3.11/site-packages/numpy/lib/_function_base_impl.py:1246: RuntimeWarning: divide by zero encountered in divide\n",
      "  b = (dx2 - dx1) / (dx1 * dx2)\n",
      "/Users/alien/opt/miniconda3/envs/soil/lib/python3.11/site-packages/numpy/lib/_function_base_impl.py:1246: RuntimeWarning: invalid value encountered in divide\n",
      "  b = (dx2 - dx1) / (dx1 * dx2)\n",
      "/Users/alien/opt/miniconda3/envs/soil/lib/python3.11/site-packages/numpy/lib/_function_base_impl.py:1247: RuntimeWarning: divide by zero encountered in divide\n",
      "  c = dx1 / (dx2 * (dx1 + dx2))\n",
      "/Users/alien/opt/miniconda3/envs/soil/lib/python3.11/site-packages/numpy/lib/_function_base_impl.py:1247: RuntimeWarning: invalid value encountered in divide\n",
      "  c = dx1 / (dx2 * (dx1 + dx2))\n",
      "/Users/alien/opt/miniconda3/envs/soil/lib/python3.11/site-packages/numpy/lib/_function_base_impl.py:1253: RuntimeWarning: invalid value encountered in add\n",
      "  out[tuple(slice1)] = a * f[tuple(slice2)] + b * f[tuple(slice3)] + c * f[tuple(slice4)]\n"
     ]
    },
    {
     "name": "stdout",
     "output_type": "stream",
     "text": [
      "Loamy Sand\n",
      "Sand\n",
      "Sandy Clay Loam\n",
      "Sandy Loam\n",
      "Silt Loam\n",
      "Silty Clay Loam\n",
      "Test Soil\n"
     ]
    }
   ],
   "source": [
    "iso_soil = np.array([-10, -3000, -5000, -7000, -10000, -15000]) # values for iso-hsoil lines\n",
    "iso_leaf = np.array([-2000, -5000, -7500, -10000, -15000, -30000]) # values for iso-hleaf lines\n",
    "iso_E = np.array([0.1, 0.2, 0.4, 0.6, 0.8]) * max(E) # values for iso-E lines\n",
    "\n",
    "for soil in soil_Data:\n",
    "    print(soil)\n",
    "\n",
    "    tau = float(soil_Data[soil][\"tau\"])\n",
    "    h0 = float(soil_Data[soil][\"h0\"])\n",
    "    k0 = float(soil_Data[soil][\"k0\"])\n",
    "\n",
    "    params_soil = r0, h0, k0, tau\n",
    "    \n",
    "    SOL = Function_complex.Calc_SOL(E, h_b, params_soil, params_plant)\n",
    "\n",
    "    soil_Data[soil][\"traject\"] = SOL\n",
    "\n",
    "    for _, hsoil_val in enumerate(iso_soil):\n",
    "        soil_Data[soil][f\"trajecthsoil_{hsoil_val}\"] = Function_complex.Calc_hleaf(E, hsoil_val, params_soil, params_plant)\n",
    "\n",
    "    for _, hleaf_val in enumerate(iso_leaf):\n",
    "\n",
    "        iso_leaf_h = []\n",
    "        iso_leaf_E = []\n",
    "    \n",
    "        for i, hb in enumerate(h_b):\n",
    "            h_leaf = Function_complex.Calc_hleaf(E, hb, params_soil, params_plant) # Calculate the iso psi soil curve\n",
    "\n",
    "            idx_leaf = np.nanargmin(np.abs(h_leaf - hleaf_val))\n",
    "\n",
    "            if E[idx_leaf] != 0:\n",
    "                iso_leaf_h.append(hb)\n",
    "                iso_leaf_E.append(E[idx_leaf].min())\n",
    "\n",
    "        soil_Data[soil][f\"trajecthleaf_{hleaf_val}\"] = np.column_stack([np.array(iso_leaf_h), np.array(iso_leaf_E)])\n",
    "\n",
    "    for _, E_val in enumerate(iso_E):\n",
    "\n",
    "        idx_E = np.nanargmin(np.abs(E - E_val))\n",
    "\n",
    "        iso_E_leaf = []\n",
    "\n",
    "        for i, hb in enumerate(h_b):\n",
    "            h_leaf = Function_complex.Calc_hleaf(E, hb, params_soil, params_plant) # Calculate the iso psi soil curve\n",
    "\n",
    "            iso_E_leaf.append(h_leaf[idx_E])\n",
    "\n",
    "        soil_Data[soil][f\"trajectE_{E_val/np.max(E)}\"] = np.array(iso_E_leaf)"
   ]
  },
  {
   "cell_type": "markdown",
   "metadata": {},
   "source": [
    "Store data outside python file to avoid computation everytime"
   ]
  },
  {
   "cell_type": "code",
   "execution_count": null,
   "metadata": {},
   "outputs": [],
   "source": [
    "soil_Data_json = {soil: {param: values.tolist() for param, values in params.items() if not param == \"c_soil\"} \n",
    "                  for soil, params in soil_Data.items()}\n",
    "\n",
    "with open(\"../../2_Data/1_SoilData/soil_Data.json\", \"w\") as f:\n",
    "    json.dump(soil_Data_json, f, indent=4)"
   ]
  },
  {
   "cell_type": "markdown",
   "metadata": {},
   "source": [
    "Load data from json file"
   ]
  },
  {
   "cell_type": "code",
   "execution_count": null,
   "metadata": {},
   "outputs": [],
   "source": [
    "\"\"\" with open('soil_Data.json') as f:\n",
    "    soil_Data = json.load(f) \"\"\""
   ]
  },
  {
   "cell_type": "markdown",
   "metadata": {},
   "source": [
    "### Outputs"
   ]
  },
  {
   "cell_type": "code",
   "execution_count": null,
   "metadata": {},
   "outputs": [],
   "source": [
    "# Plot from the leaf perspective\n",
    "\n",
    "plt.figure(1)\n",
    "plt.subplots_adjust(hspace=5)\n",
    "fig, axs = plt.subplots(figsize=(12, 12))\n",
    "\n",
    "for i, soil in enumerate(soil_Data):\n",
    "    trajectory2 = soil_Data[soil][\"traject\"]\n",
    "\n",
    "    trajecthsoil1 = soil_Data[soil][\"trajecthsoil_-10\"]\n",
    "    trajecthsoil30 = soil_Data[soil][\"trajecthsoil_-3000\"]\n",
    "    trajecthsoil50 = soil_Data[soil][\"trajecthsoil_-5000\"]\n",
    "    trajecthsoil70 = soil_Data[soil][\"trajecthsoil_-7000\"]\n",
    "    trajecthsoil100 = soil_Data[soil][\"trajecthsoil_-10000\"]\n",
    "    trajecthsoil150 = soil_Data[soil][\"trajecthsoil_-15000\"]\n",
    "\n",
    "    ax = plt.subplot(4, 3, i + 1)\n",
    "\n",
    "    ax.set_title(soil) # title with soil name\n",
    "    ax.plot(-trajecthsoil1 * 1e-4, E / np.nanmax(E), 'k', linewidth=2)\n",
    "    ax.plot(-trajecthsoil30 * 1e-4, E / np.nanmax(E), 'k--', linewidth=1)\n",
    "    ax.plot(-trajecthsoil50 * 1e-4, E / np.nanmax(E), 'k--', linewidth=1)\n",
    "    ax.plot(-trajecthsoil70 * 1e-4, E / np.nanmax(E), 'k--', linewidth=1)\n",
    "    ax.plot(-trajecthsoil100 * 1e-4, E / np.nanmax(E), 'k--', linewidth=1)\n",
    "    ax.plot(-trajecthsoil150 * 1e-4, E / np.nanmax(E), 'k--', linewidth=1)\n",
    "    ax.plot(-trajectory2[:, 1] * 1e-4, trajectory2[:, 2] / np.nanmax(E), 'r', linewidth=2)\n",
    "    #ax.ylabel(r'$E \\ [cm^3 s^{-1}]$', fontsize=18)\n",
    "    ax.set_xlabel(r'$-\\psi_{leaf} \\ [MPa]$')\n",
    "    ax.set_ylabel(r'$E \\ [-]$')\n",
    "    #ax.ylabel(r'$E \\ [-]$', fontsize=18)\n",
    "    #ax.xlabel(r'$-\\psi_{leaf} \\ [MPa]$', fontsize=18)\n",
    "\n",
    "    ax.set_xbound(lower=-0.1, upper=3)\n",
    "\n",
    "plt.tight_layout()\n",
    "plt.show()"
   ]
  },
  {
   "cell_type": "code",
   "execution_count": null,
   "metadata": {},
   "outputs": [],
   "source": [
    "# Plot from the soil perspective\n",
    "\n",
    "plt.figure(2)\n",
    "plt.subplots_adjust(hspace=5)\n",
    "fig, axs = plt.subplots(figsize=(12, 12))\n",
    "\n",
    "for i, soil in enumerate(soil_Data):\n",
    "    trajectory2 = soil_Data[soil][\"traject\"]\n",
    "\n",
    "    trajecthleaf2000 = soil_Data[soil][\"trajecthleaf_-2000\"]\n",
    "    trajecthleaf5000 = soil_Data[soil][\"trajecthleaf_-5000\"]\n",
    "    trajecthleaf7500 = soil_Data[soil][\"trajecthleaf_-7500\"]\n",
    "    trajecthleaf10000 = soil_Data[soil][\"trajecthleaf_-10000\"]\n",
    "    trajecthleaf15000 = soil_Data[soil][\"trajecthleaf_-15000\"]\n",
    "    trajecthleaf30000 = soil_Data[soil][\"trajecthleaf_-30000\"]\n",
    "\n",
    "    ax = plt.subplot(4, 3, i + 1)\n",
    "\n",
    "    ax.set_title(soil) # title with soil name\n",
    "    ax.plot(-trajecthleaf7500[:,0] * 1e-4, trajecthleaf7500[:,1], 'k')\n",
    "    ax.plot(-trajecthleaf2000[:,0] * 1e-4, trajecthleaf2000[:,1], 'k')\n",
    "    ax.plot(-trajecthleaf5000[:,0] * 1e-4, trajecthleaf5000[:,1], 'k')\n",
    "    ax.plot(-trajecthleaf10000[:,0] * 1e-4, trajecthleaf10000[:,1], 'k')\n",
    "    ax.plot(-trajecthleaf15000[:,0] * 1e-4, trajecthleaf15000[:,1], 'k')\n",
    "    ax.plot(-trajecthleaf30000[:,0] * 1e-4, trajecthleaf30000[:,1], 'k')\n",
    "    ax.plot(-trajectory2[:, 0] * 1e-4, trajectory2[:, 2], 'r', linewidth=2)\n",
    "    #ax.ylabel(r'$E \\ [cm^3 s^{-1}]$', fontsize=18)\n",
    "    ax.set_xlabel(r'$-\\psi_{soil} \\ [MPa]$')\n",
    "    ax.set_ylabel(r'$E \\ [-]$')\n",
    "    #ax.ylabel(r'$E \\ [-]$', fontsize=18)\n",
    "    #ax.xlabel(r'$-\\psi_{leaf} \\ [MPa]$', fontsize=18)\n",
    "\n",
    "plt.tight_layout()\n",
    "plt.show()"
   ]
  },
  {
   "cell_type": "code",
   "execution_count": null,
   "metadata": {},
   "outputs": [],
   "source": []
  }
 ],
 "metadata": {
  "kernelspec": {
   "display_name": "soil",
   "language": "python",
   "name": "python3"
  },
  "language_info": {
   "codemirror_mode": {
    "name": "ipython",
    "version": 3
   },
   "file_extension": ".py",
   "mimetype": "text/x-python",
   "name": "python",
   "nbconvert_exporter": "python",
   "pygments_lexer": "ipython3",
   "version": "3.11.11"
  }
 },
 "nbformat": 4,
 "nbformat_minor": 2
}
